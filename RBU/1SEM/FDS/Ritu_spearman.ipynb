{
 "cells": [
  {
   "cell_type": "code",
   "execution_count": 4,
   "id": "be3d3a03",
   "metadata": {},
   "outputs": [
    {
     "name": "stdout",
     "output_type": "stream",
     "text": [
      "Spearman correlation is => 0.7714285714285715\n",
      " S value of this program is = 0.07239650145772594\n"
     ]
    }
   ],
   "source": [
    "import numpy as np\n",
    "from scipy.stats import spearmanr\n",
    "studyHours = [8,12,15,9,14,10]\n",
    "examScores = [85,90,93,80,88,82]\n",
    "spearman_corr, s_value = spearmanr(studyHours,examScores)\n",
    "print(\"Spearman correlation is =>\",spearman_corr)\n",
    "print(\" S value of this program is = {}\".format(s_value))\n"
   ]
  },
  {
   "cell_type": "code",
   "execution_count": null,
   "id": "0eb5f4eb",
   "metadata": {},
   "outputs": [],
   "source": []
  },
  {
   "cell_type": "code",
   "execution_count": null,
   "id": "e2b4fe64",
   "metadata": {},
   "outputs": [],
   "source": []
  }
 ],
 "metadata": {
  "kernelspec": {
   "display_name": "Python 3 (ipykernel)",
   "language": "python",
   "name": "python3"
  },
  "language_info": {
   "codemirror_mode": {
    "name": "ipython",
    "version": 3
   },
   "file_extension": ".py",
   "mimetype": "text/x-python",
   "name": "python",
   "nbconvert_exporter": "python",
   "pygments_lexer": "ipython3",
   "version": "3.11.4"
  }
 },
 "nbformat": 4,
 "nbformat_minor": 5
}
